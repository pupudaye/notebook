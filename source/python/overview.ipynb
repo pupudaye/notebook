{
 "cells": [
  {
   "cell_type": "markdown",
   "metadata": {},
   "source": [
    "# 命令行\n",
    "- 启用模块浏览器\n",
    "  \n",
    "  ```shell\n",
    "    python -m pydoc -p 1234\n",
    "  ```\n",
    "\n",
    "# 随机数\n",
    "```python\n",
    "import random\n",
    "\n",
    "print('{:04.3f}'.format(random.uniform(1, 100)), end=' ')\n",
    "```\n",
    "# 注释\n",
    "\n",
    "```python\n",
    "\n",
    "# 这是一个注释\n",
    "\n",
    "'''\n",
    "这是多行注释，用三个单引号\n",
    "这是多行注释，用三个单引号 \n",
    "这是多行注释，用三个单引号\n",
    "'''\n",
    "\n",
    "```"
   ]
  }
 ],
 "metadata": {
  "kernelspec": {
   "display_name": "Python 3.9.13 64-bit",
   "language": "python",
   "name": "python3"
  },
  "language_info": {
   "codemirror_mode": {
    "name": "ipython",
    "version": 3
   },
   "file_extension": ".py",
   "mimetype": "text/x-python",
   "name": "python",
   "nbconvert_exporter": "python",
   "pygments_lexer": "ipython3",
   "version": "3.9.13"
  },
  "orig_nbformat": 4,
  "vscode": {
   "interpreter": {
    "hash": "aee8b7b246df8f9039afb4144a1f6fd8d2ca17a180786b69acc140d282b71a49"
   }
  }
 },
 "nbformat": 4,
 "nbformat_minor": 2
}
