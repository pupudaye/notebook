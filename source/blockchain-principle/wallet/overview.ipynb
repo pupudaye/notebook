{
 "cells": [
  {
   "cell_type": "markdown",
   "metadata": {},
   "source": [
    "# 公钥/私钥\n",
    "随机产生一个256位二进制数字作为熵源,通常情况下使用操作系统底层的随机数生成器来产生 256 位的熵 (随机性)。\n",
    "从编程的角度来看，一般是通过在一个密码学安全的随机源中取出一长串随机字节，对其使用 SHA256 哈希算法进行运算，这样就可以方便地产生一个256位的数字。如果运算结果小于n-1，我们就有了一个合适的私钥。否则我们就用另一个随机数再重复一次。\n",
    "\n",
    "![RUNOOB 图标](../../_static/wallet/pkpb.png)\n"
   ]
  },
  {
   "cell_type": "code",
   "execution_count": 7,
   "metadata": {},
   "outputs": [
    {
     "name": "stdout",
     "output_type": "stream",
     "text": [
      "生成熵(128位): fbd7939d674997cdb4692d34de8633c4\n",
      "生成熵(160位): d54ad009d179ae346683cfc3603979bc99339ef7\n",
      "生成熵(256位): f74efabef12ea619e30b79bddef89cffa9dda494761681ca862cff2871a85980\n"
     ]
    }
   ],
   "source": [
    "import random\n",
    "import hashlib\n",
    "\n",
    "# 随机产生一个数字,实际情况需要产生一个更大更随机的数字\n",
    "entropy=str(random.randint(1, 100))\n",
    "# 利用sha计算熵源\n",
    "entropy_128 = hashlib.md5(bytes(entropy,'utf-8'))\n",
    "entropy_160 = hashlib.sha1(bytes(entropy,'utf-8'))\n",
    "entropy_256 = hashlib.sha256(bytes(entropy,'utf-8'))\n",
    "print('生成熵(128位):',entropy_128.hexdigest())\n",
    "print('生成熵(160位):',entropy_160.hexdigest())\n",
    "print('生成熵(256位):',entropy_256.hexdigest())"
   ]
  },
  {
   "cell_type": "markdown",
   "metadata": {},
   "source": [
    "# 钱包分类\n",
    "\n",
    "- 随机钱包: 私钥生成的种子是随机产生的，缺点是\n",
    "  \n",
    "- 确定性钱包: 使用同一随机种子，在生成私有的时候按序号作为额外参数\n",
    "  \n",
    "- 分层确定性钱包: 按照既定种子规则\n",
    "\n",
    "```{mermaid}\n",
    "\n",
    "  flowchart LR\n",
    "      随机钱包 --> 确定性钱包\n",
    "      确定性钱包 --> 分层确定性钱包\n",
    "```\n",
    "\n",
    "\n",
    "\n",
    "# 钱包标准\n",
    "\n",
    "* BIP32\n",
    "\n",
    "* BIP39\n",
    "\n",
    "* BIP44\n",
    "\n"
   ]
  }
 ],
 "metadata": {
  "kernelspec": {
   "display_name": "Python 3.9.13 64-bit",
   "language": "python",
   "name": "python3"
  },
  "language_info": {
   "codemirror_mode": {
    "name": "ipython",
    "version": 3
   },
   "file_extension": ".py",
   "mimetype": "text/x-python",
   "name": "python",
   "nbconvert_exporter": "python",
   "pygments_lexer": "ipython3",
   "version": "3.9.13"
  },
  "orig_nbformat": 4,
  "vscode": {
   "interpreter": {
    "hash": "aee8b7b246df8f9039afb4144a1f6fd8d2ca17a180786b69acc140d282b71a49"
   }
  }
 },
 "nbformat": 4,
 "nbformat_minor": 2
}
