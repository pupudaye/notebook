{
 "cells": [
  {
   "cell_type": "markdown",
   "metadata": {},
   "source": [
    "# 椭圆曲线密码(ECC)\n",
    "椭圆曲线加密算法（Elliptic Curve Cryptography），简称 ECC，是基于椭圆曲线数学理论实现的一种非对称加密算法。ECC的主要优势是它相比RSA加密演算法使用较小的密钥长度并提供相当等级的安全性.\n",
    "\n",
    "- SECP256k1: openssl库标准曲线,区块链常用的曲线标准\n",
    "- ecdsa: python ECC开发库\n",
    "\n",
    "## 验证签名\n",
    "  ```python\n",
    "    from ecdsa import SigningKey,SECP256k1\n",
    "    \n",
    "    sk = SigningKey.generate(curve=SECP256k1) # uses SECP256k1\n",
    "    vk = sk.verifying_key\n",
    "    signature = sk.sign(b\"message\")\n",
    "    print(vk.verify(signature, b\"message\"))\n",
    "  ```"
   ]
  },
  {
   "cell_type": "code",
   "execution_count": 3,
   "metadata": {},
   "outputs": [
    {
     "name": "stdout",
     "output_type": "stream",
     "text": [
      "True\n"
     ]
    }
   ],
   "source": [
    "from ecdsa import SigningKey,SECP256k1\n",
    "    \n",
    "sk = SigningKey.generate(curve=SECP256k1) # uses SECP256k1\n",
    "vk = sk.verifying_key\n",
    "signature = sk.sign(b\"message\")\n",
    "print(vk.verify(signature, b\"message\"))"
   ]
  }
 ],
 "metadata": {
  "kernelspec": {
   "display_name": "Python 3.9.13 64-bit",
   "language": "python",
   "name": "python3"
  },
  "language_info": {
   "codemirror_mode": {
    "name": "ipython",
    "version": 3
   },
   "file_extension": ".py",
   "mimetype": "text/x-python",
   "name": "python",
   "nbconvert_exporter": "python",
   "pygments_lexer": "ipython3",
   "version": "3.9.13"
  },
  "orig_nbformat": 4,
  "vscode": {
   "interpreter": {
    "hash": "aee8b7b246df8f9039afb4144a1f6fd8d2ca17a180786b69acc140d282b71a49"
   }
  }
 },
 "nbformat": 4,
 "nbformat_minor": 2
}
